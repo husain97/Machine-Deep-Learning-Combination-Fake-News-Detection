{
  "nbformat": 4,
  "nbformat_minor": 0,
  "metadata": {
    "colab": {
      "name": "1D Convolutional Neural Network(Fake News Detection).ipynb",
      "provenance": []
    },
    "kernelspec": {
      "name": "python3",
      "display_name": "Python 3"
    }
  },
  "cells": [
    {
      "cell_type": "code",
      "metadata": {
        "id": "NbUo4iLxpbU9",
        "colab_type": "code",
        "colab": {}
      },
      "source": [
        "from google.colab import drive \n",
        "drive.mount('/content/gdrive')"
      ],
      "execution_count": 0,
      "outputs": []
    },
    {
      "cell_type": "code",
      "metadata": {
        "id": "jW47hm53qOxq",
        "colab_type": "code",
        "colab": {}
      },
      "source": [
        "#SILENCING THE FALSE POSITIVE WARNINGS\n",
        "import warnings\n",
        "warnings.simplefilter('always')\n",
        "with warnings.catch_warnings():\n",
        "    warnings.filterwarnings('ignore', category=pd.core.common.SettingWithCopyWarning)"
      ],
      "execution_count": 0,
      "outputs": []
    },
    {
      "cell_type": "code",
      "metadata": {
        "id": "CyBUcrb_pmWS",
        "colab_type": "code",
        "colab": {}
      },
      "source": [
        "#IMPORTING DEPENDENCIES\n",
        "import tensorflow as tf\n",
        "import pandas as pd\n",
        "import numpy as np\n",
        "from tensorflow.keras.preprocessing.text import Tokenizer\n",
        "from tensorflow.keras.preprocessing.sequence import pad_sequences\n",
        "from tensorflow.keras.models import Sequential\n",
        "from tensorflow.keras.layers import Dense, Dropout, Embedding, Conv1D, GlobalMaxPooling1D, Activation"
      ],
      "execution_count": 0,
      "outputs": []
    },
    {
      "cell_type": "code",
      "metadata": {
        "id": "qQDS0fIqpura",
        "colab_type": "code",
        "colab": {}
      },
      "source": [
        "#IMPORTING DATASET\n",
        "data = pd.read_csv('/content/gdrive/My Drive/Colab Notebooks/train.csv', index_col=False)\n",
        "df = data"
      ],
      "execution_count": 0,
      "outputs": []
    },
    {
      "cell_type": "code",
      "metadata": {
        "id": "nS_JRbSVp28C",
        "colab_type": "code",
        "colab": {}
      },
      "source": [
        "#Filling Missing Values in Data\n",
        "#print(df.isna().sum())\n",
        "df[['title', 'author']] = df[['title', 'author']].fillna(value = 'Missing Value')\n",
        "df = df.dropna()\n",
        "df['length'] = df.iloc[:,3].str.len()\n",
        "#print(df.isna().sum())\n",
        "df[df['length'] < 50].count()\n",
        "df = df.drop(df['text'][df['length'] < 50].index, axis=0)\n",
        "df_reverse = pd.DataFrame()\n",
        "\n",
        "\n",
        "#Categorical to Numeric\n",
        "for col_name in df.columns:\n",
        "    if(df[col_name].dtype == 'object'):\n",
        "        df[col_name]= df[col_name].astype('category')\n",
        "        d = dict(enumerate(df[col_name].cat.categories))\n",
        "        df[col_name] = df[col_name].cat.codes\n",
        "        df_reverse[col_name+\"_code\"] = df[col_name]\n",
        "        df_reverse[col_name] = df[col_name].map(d)\n",
        "\n",
        "features_cols = ['id', 'title', 'author', 'text']\n",
        "#FEATURES AND LABELS\n",
        "X = df[features_cols]\n",
        "Y = df.label"
      ],
      "execution_count": 0,
      "outputs": []
    },
    {
      "cell_type": "code",
      "metadata": {
        "id": "-MsngJvFqtSL",
        "colab_type": "code",
        "colab": {}
      },
      "source": [
        "#PREPARING TRAINING DATASET AND TEST DATASET\n",
        "from sklearn.model_selection import train_test_split\n",
        "X_train, X_test, Y_train, Y_test = train_test_split(X, Y, test_size=0.3, random_state=1)"
      ],
      "execution_count": 0,
      "outputs": []
    },
    {
      "cell_type": "code",
      "metadata": {
        "id": "yoZD68IOqxsY",
        "colab_type": "code",
        "colab": {}
      },
      "source": [
        "#SETTING NEURAL-NETWORK PARAMETERS\n",
        "max_features = 20800\n",
        "batch_size = 32\n",
        "embedding_dims = 120\n",
        "filters = 250\n",
        "kernel_size = 3\n",
        "hidden_dims = 250\n",
        "epochs = 2"
      ],
      "execution_count": 0,
      "outputs": []
    },
    {
      "cell_type": "code",
      "metadata": {
        "id": "S3we4_GBrMl6",
        "colab_type": "code",
        "colab": {
          "base_uri": "https://localhost:8080/",
          "height": 468
        },
        "outputId": "728e0bb8-60b7-4fea-d86c-25b83a8e464f"
      },
      "source": [
        "#Creating Model\n",
        "model = Sequential()\n",
        "\n",
        "#Embedding Input Layer\n",
        "model.add(Embedding(input_dim = max_features, output_dim = embedding_dims))\n",
        "model.add(Dropout(0.2))\n",
        "\n",
        "#Convolution Layer\n",
        "model.add(Conv1D(filters, kernel_size, padding='valid', activation='relu', strides=1))\n",
        "\n",
        "#Max Pooling Layer\n",
        "model.add(GlobalMaxPooling1D())\n",
        "\n",
        "#Vanilla Hidden Layer\n",
        "model.add(Dense(hidden_dims))\n",
        "model.add(Dropout(0.2))\n",
        "model.add(Activation('relu'))\n",
        "\n",
        "#Output Layer\n",
        "model.add(Dense(1))\n",
        "model.add(Activation('sigmoid'))\n",
        "\n",
        "model.summary()"
      ],
      "execution_count": 59,
      "outputs": [
        {
          "output_type": "stream",
          "text": [
            "Model: \"sequential_1\"\n",
            "_________________________________________________________________\n",
            "Layer (type)                 Output Shape              Param #   \n",
            "=================================================================\n",
            "embedding_1 (Embedding)      (None, None, 120)         2496000   \n",
            "_________________________________________________________________\n",
            "dropout_2 (Dropout)          (None, None, 120)         0         \n",
            "_________________________________________________________________\n",
            "conv1d_1 (Conv1D)            (None, None, 250)         90250     \n",
            "_________________________________________________________________\n",
            "global_max_pooling1d_1 (Glob (None, 250)               0         \n",
            "_________________________________________________________________\n",
            "dense_2 (Dense)              (None, 250)               62750     \n",
            "_________________________________________________________________\n",
            "dropout_3 (Dropout)          (None, 250)               0         \n",
            "_________________________________________________________________\n",
            "activation_2 (Activation)    (None, 250)               0         \n",
            "_________________________________________________________________\n",
            "dense_3 (Dense)              (None, 1)                 251       \n",
            "_________________________________________________________________\n",
            "activation_3 (Activation)    (None, 1)                 0         \n",
            "=================================================================\n",
            "Total params: 2,649,251\n",
            "Trainable params: 2,649,251\n",
            "Non-trainable params: 0\n",
            "_________________________________________________________________\n"
          ],
          "name": "stdout"
        }
      ]
    },
    {
      "cell_type": "code",
      "metadata": {
        "id": "iBKPO8ubrTw4",
        "colab_type": "code",
        "colab": {}
      },
      "source": [
        "#Training Model\n",
        "model.compile(loss='binary_crossentropy', optimizer='adam', metrics=['accuracy'])\n",
        "model.fit(X_train, Y_train, batch_size=batch_size, epochs=epochs, validation_data=(X_test, Y_test))"
      ],
      "execution_count": 0,
      "outputs": []
    },
    {
      "cell_type": "code",
      "metadata": {
        "id": "lroA6tAnriD2",
        "colab_type": "code",
        "colab": {
          "base_uri": "https://localhost:8080/",
          "height": 52
        },
        "outputId": "ffeeb188-c622-41bd-904f-83e417f648e2"
      },
      "source": [
        "#PREDICTIONS USING CNN\n",
        "Y_pred = model.predict(X_test)\n",
        "score = model.evaluate(X_test, Y_test, batch_size=128, verbose=1)\n",
        "accuracy = score[1]\n",
        "print(\"Accuracy of CNN:\", np.round(accuracy * 100), \"%\")"
      ],
      "execution_count": 61,
      "outputs": [
        {
          "output_type": "stream",
          "text": [
            "6167/6167 [==============================] - 0s 25us/sample - loss: 0.2241 - acc: 0.9275\n",
            "Accuracy of CNN: 93.0 %\n"
          ],
          "name": "stdout"
        }
      ]
    },
    {
      "cell_type": "code",
      "metadata": {
        "id": "WkxyKLy1r1u6",
        "colab_type": "code",
        "colab": {}
      },
      "source": [
        "np.set_printoptions(suppress=True)\n",
        "Y_pred = np.around(Y_pred).astype(int)\n",
        "Y_pred = Y_pred.squeeze()"
      ],
      "execution_count": 0,
      "outputs": []
    },
    {
      "cell_type": "code",
      "metadata": {
        "id": "uObhfP-7sQHd",
        "colab_type": "code",
        "colab": {}
      },
      "source": [
        "X_test_cp = X_test\n",
        "#Decoding Data - ONE TIME STEP - DO NOT REPEAT\n",
        "df_reverse.set_index('title_code', inplace=False)\n",
        "title_dict = df_reverse.to_dict()['title']\n",
        "df_reverse.set_index('author_code', inplace=False)\n",
        "author_dict = df_reverse.to_dict()['author']\n",
        "df_reverse.set_index('text_code', inplace=False)\n",
        "text_dict = df_reverse.to_dict()['text']\n",
        "\n",
        "X_test_cp['title'] = X_test_cp['title'].map(title_dict)\n",
        "X_test_cp['author'] = X_test_cp['author'].map(author_dict)\n",
        "X_test_cp['text'] = X_test_cp['text'].map(text_dict)\n",
        "X_test_cp.set_index('id', inplace=True)"
      ],
      "execution_count": 0,
      "outputs": []
    },
    {
      "cell_type": "code",
      "metadata": {
        "id": "lvppHHbDshEG",
        "colab_type": "code",
        "colab": {}
      },
      "source": [
        "#DISPLAYING NETWORK - DECODED - RESULTS\n",
        "X_test_cp['Prediction'] = Y_pred\n",
        "X_test_cp['Prediction'].replace([0,1],['Fake News','Relaible News'],inplace=True)\n",
        "pd.set_option('display.max_rows', None)\n",
        "pd.set_option('display.max_columns', None)\n",
        "pd.set_option('display.width', None)"
      ],
      "execution_count": 0,
      "outputs": []
    },
    {
      "cell_type": "code",
      "metadata": {
        "id": "qj9d1z5gvKIl",
        "colab_type": "code",
        "colab": {
          "base_uri": "https://localhost:8080/",
          "height": 233
        },
        "outputId": "13e14911-2661-4bf4-8e6a-7d9af66a66c6"
      },
      "source": [
        "#PREDICTION RESULTS\n",
        "X_test_cp.tail()"
      ],
      "execution_count": 67,
      "outputs": [
        {
          "output_type": "execute_result",
          "data": {
            "text/html": [
              "<div>\n",
              "<style scoped>\n",
              "    .dataframe tbody tr th:only-of-type {\n",
              "        vertical-align: middle;\n",
              "    }\n",
              "\n",
              "    .dataframe tbody tr th {\n",
              "        vertical-align: top;\n",
              "    }\n",
              "\n",
              "    .dataframe thead th {\n",
              "        text-align: right;\n",
              "    }\n",
              "</style>\n",
              "<table border=\"1\" class=\"dataframe\">\n",
              "  <thead>\n",
              "    <tr style=\"text-align: right;\">\n",
              "      <th></th>\n",
              "      <th>title</th>\n",
              "      <th>author</th>\n",
              "      <th>text</th>\n",
              "      <th>Prediction</th>\n",
              "    </tr>\n",
              "    <tr>\n",
              "      <th>id</th>\n",
              "      <th></th>\n",
              "      <th></th>\n",
              "      <th></th>\n",
              "      <th></th>\n",
              "    </tr>\n",
              "  </thead>\n",
              "  <tbody>\n",
              "    <tr>\n",
              "      <th>12652</th>\n",
              "      <td>Commissioner Starts to Press Cleveland Indians...</td>\n",
              "      <td>The New York Times</td>\n",
              "      <td>At the Golden Globes afterparties, hoi polloi ...</td>\n",
              "      <td>Fake News</td>\n",
              "    </tr>\n",
              "    <tr>\n",
              "      <th>13401</th>\n",
              "      <td>Cosmology/ Love &amp; the Afterlife</td>\n",
              "      <td>noreply@blogger.com (Alexander Light)</td>\n",
              "      <td>Trending Articles: Trending Articles: ‘Chairma...</td>\n",
              "      <td>Fake News</td>\n",
              "    </tr>\n",
              "    <tr>\n",
              "      <th>5882</th>\n",
              "      <td>Fordham Basketball Coach Recruits With an Acad...</td>\n",
              "      <td>Dr. Patrick Slattery</td>\n",
              "      <td>Hollywood’s biggest stars took to social media...</td>\n",
              "      <td>Fake News</td>\n",
              "    </tr>\n",
              "    <tr>\n",
              "      <th>11500</th>\n",
              "      <td>Carrie Fisher, Russia, Shinzo Abe: Your Wednes...</td>\n",
              "      <td>TFPP Writer</td>\n",
              "      <td>This post was originally published on this sit...</td>\n",
              "      <td>Fake News</td>\n",
              "    </tr>\n",
              "    <tr>\n",
              "      <th>14754</th>\n",
              "      <td>Ken Blackwell: Media ‘Borking’ Sessions Becaus...</td>\n",
              "      <td>Mac Slavo</td>\n",
              "      <td>IQUITOS, Peru  —   Venezuela took its stronges...</td>\n",
              "      <td>Relaible News</td>\n",
              "    </tr>\n",
              "  </tbody>\n",
              "</table>\n",
              "</div>"
            ],
            "text/plain": [
              "                                                   title  \\\n",
              "id                                                         \n",
              "12652  Commissioner Starts to Press Cleveland Indians...   \n",
              "13401                    Cosmology/ Love & the Afterlife   \n",
              "5882   Fordham Basketball Coach Recruits With an Acad...   \n",
              "11500  Carrie Fisher, Russia, Shinzo Abe: Your Wednes...   \n",
              "14754  Ken Blackwell: Media ‘Borking’ Sessions Becaus...   \n",
              "\n",
              "                                      author  \\\n",
              "id                                             \n",
              "12652                     The New York Times   \n",
              "13401  noreply@blogger.com (Alexander Light)   \n",
              "5882                    Dr. Patrick Slattery   \n",
              "11500                            TFPP Writer   \n",
              "14754                              Mac Slavo   \n",
              "\n",
              "                                                    text     Prediction  \n",
              "id                                                                       \n",
              "12652  At the Golden Globes afterparties, hoi polloi ...      Fake News  \n",
              "13401  Trending Articles: Trending Articles: ‘Chairma...      Fake News  \n",
              "5882   Hollywood’s biggest stars took to social media...      Fake News  \n",
              "11500  This post was originally published on this sit...      Fake News  \n",
              "14754  IQUITOS, Peru  —   Venezuela took its stronges...  Relaible News  "
            ]
          },
          "metadata": {
            "tags": []
          },
          "execution_count": 67
        }
      ]
    }
  ]
}