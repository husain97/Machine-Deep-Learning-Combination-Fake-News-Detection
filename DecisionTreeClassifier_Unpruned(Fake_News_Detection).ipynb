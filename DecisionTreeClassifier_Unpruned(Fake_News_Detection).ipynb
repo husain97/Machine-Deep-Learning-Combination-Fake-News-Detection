{
  "nbformat": 4,
  "nbformat_minor": 0,
  "metadata": {
    "colab": {
      "name": "DecisionTreeClassifier - Unpruned(Fake News Detection).ipynb",
      "provenance": [],
      "collapsed_sections": []
    },
    "kernelspec": {
      "name": "python3",
      "display_name": "Python 3"
    }
  },
  "cells": [
    {
      "cell_type": "code",
      "metadata": {
        "id": "WG0ha0cPbDYp",
        "colab_type": "code",
        "colab": {}
      },
      "source": [
        "from google.colab import drive \n",
        "drive.mount('/content/gdrive')"
      ],
      "execution_count": 0,
      "outputs": []
    },
    {
      "cell_type": "code",
      "metadata": {
        "id": "jW47hm53qOxq",
        "colab_type": "code",
        "colab": {}
      },
      "source": [
        "#SILENCING THE FALSE POSITIVE WARNINGS\n",
        "import warnings\n",
        "warnings.simplefilter('always')\n",
        "with warnings.catch_warnings():\n",
        "    warnings.filterwarnings('ignore', category=pd.core.common.SettingWithCopyWarning)"
      ],
      "execution_count": 0,
      "outputs": []
    },
    {
      "cell_type": "code",
      "metadata": {
        "id": "fha1oXSbAF5Q",
        "colab_type": "code",
        "colab": {}
      },
      "source": [
        "#IMPORTING DEPENDENCIES\n",
        "import tensorflow as tf\n",
        "import pandas as pd\n",
        "import numpy as np\n",
        "from tensorflow.keras.preprocessing.text import Tokenizer\n",
        "from tensorflow.keras.preprocessing.sequence import pad_sequences\n",
        "from tensorflow.keras.models import Sequential\n",
        "from tensorflow.keras.layers import Dense, Dropout, Embedding, Conv1D, GlobalMaxPooling1D, Activation"
      ],
      "execution_count": 0,
      "outputs": []
    },
    {
      "cell_type": "code",
      "metadata": {
        "id": "gwWFuHVBPPDy",
        "colab_type": "code",
        "colab": {}
      },
      "source": [
        "#IMPORTING DATASET\n",
        "data = pd.read_csv('/content/gdrive/My Drive/Colab Notebooks/train.csv', index_col=False)\n",
        "df = data"
      ],
      "execution_count": 0,
      "outputs": []
    },
    {
      "cell_type": "code",
      "metadata": {
        "id": "oOFfMhLKGnj4",
        "colab_type": "code",
        "colab": {}
      },
      "source": [
        "#Filling Missing Values in Data\n",
        "#print(df.isna().sum())\n",
        "df[['title', 'author']] = df[['title', 'author']].fillna(value = 'Missing Value')\n",
        "df = df.dropna()\n",
        "df['length'] = df.iloc[:,3].str.len()\n",
        "#print(df.isna().sum())\n",
        "df[df['length'] < 50].count()\n",
        "df = df.drop(df['text'][df['length'] < 50].index, axis=0)\n",
        "df_reverse = pd.DataFrame()\n",
        "\n",
        "\n",
        "#Categorical to Numeric\n",
        "for col_name in df.columns:\n",
        "    if(df[col_name].dtype == 'object'):\n",
        "        df[col_name]= df[col_name].astype('category')\n",
        "        d = dict(enumerate(df[col_name].cat.categories))\n",
        "        df[col_name] = df[col_name].cat.codes\n",
        "        df_reverse[col_name+\"_code\"] = df[col_name]\n",
        "        df_reverse[col_name] = df[col_name].map(d)\n",
        "\n",
        "features_cols = ['id', 'title', 'author', 'text']\n",
        "#FEATURES AND LABELS\n",
        "X = df[features_cols]\n",
        "Y = df.label"
      ],
      "execution_count": 0,
      "outputs": []
    },
    {
      "cell_type": "code",
      "metadata": {
        "id": "PCiBB0AgZ78A",
        "colab_type": "code",
        "colab": {}
      },
      "source": [
        "#PREPARING TRAINING DATASET AND TEST DATASET\n",
        "from sklearn.model_selection import train_test_split\n",
        "X_train, X_test, Y_train, Y_test = train_test_split(X, Y, test_size=0.3, random_state=1)"
      ],
      "execution_count": 0,
      "outputs": []
    },
    {
      "cell_type": "code",
      "metadata": {
        "id": "3FVEDlteEd-q",
        "colab_type": "code",
        "colab": {
          "base_uri": "https://localhost:8080/",
          "height": 35
        },
        "outputId": "831e8331-11bd-4647-f23a-2c34e7f0acf4"
      },
      "source": [
        "#DECISION TREE CLASSIFIER - UNPRUNDED TREE\n",
        "from sklearn.tree import DecisionTreeClassifier\n",
        "from sklearn import metrics\n",
        "dtc_unpruned = DecisionTreeClassifier()\n",
        "dtc_unpruned.fit(X_train, Y_train)\n",
        "Y_pred_dtc_unpruned = dtc_unpruned.predict(X_test)\n",
        "acc_score_dtc_unpruned = round(metrics.accuracy_score(Y_test,Y_pred_dtc_unpruned) * 100)\n",
        "print(\"Accuracy of DecisionTreeClassifier:\", acc_score_dtc_unpruned, \"%\")"
      ],
      "execution_count": 106,
      "outputs": [
        {
          "output_type": "stream",
          "text": [
            "Accuracy of DecisionTreeClassifier: 88.0 %\n"
          ],
          "name": "stdout"
        }
      ]
    },
    {
      "cell_type": "code",
      "metadata": {
        "id": "p1U-jZAjG7O6",
        "colab_type": "code",
        "colab": {}
      },
      "source": [
        "X_test_cp = X_test\n",
        "#Decoding Data - ONE TIME STEP - DO NOT REPEAT\n",
        "df_reverse.set_index('title_code', inplace=False)\n",
        "title_dict = df_reverse.to_dict()['title']\n",
        "df_reverse.set_index('author_code', inplace=False)\n",
        "author_dict = df_reverse.to_dict()['author']\n",
        "df_reverse.set_index('text_code', inplace=False)\n",
        "text_dict = df_reverse.to_dict()['text']\n",
        "\n",
        "X_test_cp['title'] = X_test_cp['title'].map(title_dict)\n",
        "X_test_cp['author'] = X_test_cp['author'].map(author_dict)\n",
        "X_test_cp['text'] = X_test_cp['text'].map(text_dict)\n",
        "X_test_cp.set_index('id', inplace=True)"
      ],
      "execution_count": 0,
      "outputs": []
    },
    {
      "cell_type": "code",
      "metadata": {
        "id": "6fXOed8pMYyW",
        "colab_type": "code",
        "colab": {}
      },
      "source": [
        "#DISPLAYING DECSIONTREECLASSIFIER - DECODED - RESULTS\n",
        "X_test_cp['Prediction'] = Y_pred_dtc_unpruned\n",
        "X_test_cp['Prediction'].replace([0,1],['Fake News','Relaible News'],inplace=True)\n",
        "pd.set_option('display.max_columns', 1000)\n",
        "pd.set_option('display.max_rows', 1000)"
      ],
      "execution_count": 0,
      "outputs": []
    },
    {
      "cell_type": "code",
      "metadata": {
        "id": "5ApTBCJ2wmxU",
        "colab_type": "code",
        "colab": {
          "base_uri": "https://localhost:8080/",
          "height": 233
        },
        "outputId": "e1c30708-a49a-4a3e-dd7f-557d8a0a56b2"
      },
      "source": [
        "#PREDICTION RESULTS\n",
        "X_test_cp.tail()"
      ],
      "execution_count": 113,
      "outputs": [
        {
          "output_type": "execute_result",
          "data": {
            "text/html": [
              "<div>\n",
              "<style scoped>\n",
              "    .dataframe tbody tr th:only-of-type {\n",
              "        vertical-align: middle;\n",
              "    }\n",
              "\n",
              "    .dataframe tbody tr th {\n",
              "        vertical-align: top;\n",
              "    }\n",
              "\n",
              "    .dataframe thead th {\n",
              "        text-align: right;\n",
              "    }\n",
              "</style>\n",
              "<table border=\"1\" class=\"dataframe\">\n",
              "  <thead>\n",
              "    <tr style=\"text-align: right;\">\n",
              "      <th></th>\n",
              "      <th>title</th>\n",
              "      <th>author</th>\n",
              "      <th>text</th>\n",
              "      <th>Prediction</th>\n",
              "    </tr>\n",
              "    <tr>\n",
              "      <th>id</th>\n",
              "      <th></th>\n",
              "      <th></th>\n",
              "      <th></th>\n",
              "      <th></th>\n",
              "    </tr>\n",
              "  </thead>\n",
              "  <tbody>\n",
              "    <tr>\n",
              "      <th>12652</th>\n",
              "      <td>Commissioner Starts to Press Cleveland Indians...</td>\n",
              "      <td>The New York Times</td>\n",
              "      <td>At the Golden Globes afterparties, hoi polloi ...</td>\n",
              "      <td>Fake News</td>\n",
              "    </tr>\n",
              "    <tr>\n",
              "      <th>13401</th>\n",
              "      <td>Cosmology/ Love &amp; the Afterlife</td>\n",
              "      <td>noreply@blogger.com (Alexander Light)</td>\n",
              "      <td>Trending Articles: Trending Articles: ‘Chairma...</td>\n",
              "      <td>Fake News</td>\n",
              "    </tr>\n",
              "    <tr>\n",
              "      <th>5882</th>\n",
              "      <td>Fordham Basketball Coach Recruits With an Acad...</td>\n",
              "      <td>Dr. Patrick Slattery</td>\n",
              "      <td>Hollywood’s biggest stars took to social media...</td>\n",
              "      <td>Fake News</td>\n",
              "    </tr>\n",
              "    <tr>\n",
              "      <th>11500</th>\n",
              "      <td>Carrie Fisher, Russia, Shinzo Abe: Your Wednes...</td>\n",
              "      <td>TFPP Writer</td>\n",
              "      <td>This post was originally published on this sit...</td>\n",
              "      <td>Fake News</td>\n",
              "    </tr>\n",
              "    <tr>\n",
              "      <th>14754</th>\n",
              "      <td>Ken Blackwell: Media ‘Borking’ Sessions Becaus...</td>\n",
              "      <td>Mac Slavo</td>\n",
              "      <td>IQUITOS, Peru  —   Venezuela took its stronges...</td>\n",
              "      <td>Relaible News</td>\n",
              "    </tr>\n",
              "  </tbody>\n",
              "</table>\n",
              "</div>"
            ],
            "text/plain": [
              "                                                   title  \\\n",
              "id                                                         \n",
              "12652  Commissioner Starts to Press Cleveland Indians...   \n",
              "13401                    Cosmology/ Love & the Afterlife   \n",
              "5882   Fordham Basketball Coach Recruits With an Acad...   \n",
              "11500  Carrie Fisher, Russia, Shinzo Abe: Your Wednes...   \n",
              "14754  Ken Blackwell: Media ‘Borking’ Sessions Becaus...   \n",
              "\n",
              "                                      author  \\\n",
              "id                                             \n",
              "12652                     The New York Times   \n",
              "13401  noreply@blogger.com (Alexander Light)   \n",
              "5882                    Dr. Patrick Slattery   \n",
              "11500                            TFPP Writer   \n",
              "14754                              Mac Slavo   \n",
              "\n",
              "                                                    text     Prediction  \n",
              "id                                                                       \n",
              "12652  At the Golden Globes afterparties, hoi polloi ...      Fake News  \n",
              "13401  Trending Articles: Trending Articles: ‘Chairma...      Fake News  \n",
              "5882   Hollywood’s biggest stars took to social media...      Fake News  \n",
              "11500  This post was originally published on this sit...      Fake News  \n",
              "14754  IQUITOS, Peru  —   Venezuela took its stronges...  Relaible News  "
            ]
          },
          "metadata": {
            "tags": []
          },
          "execution_count": 113
        }
      ]
    },
    {
      "cell_type": "code",
      "metadata": {
        "id": "CWFTozuOcyeJ",
        "colab_type": "code",
        "colab": {}
      },
      "source": [
        "#Visualizing DecisionTree\n",
        "from sklearn.tree import export_graphviz\n",
        "from sklearn.externals.six import StringIO  \n",
        "from IPython.display import Image  \n",
        "import pydotplus\n",
        "\n",
        "dot_data = StringIO()\n",
        "export_graphviz(dtc_unpruned, out_file=dot_data,  \n",
        "                filled=True, rounded=True,\n",
        "                special_characters=True,feature_names = features_cols,class_names=['0','1'])\n",
        "graph = pydotplus.graph_from_dot_data(dot_data.getvalue())  \n",
        "graph.write_png('fakeNews.png')\n",
        "Image(graph.create_png())"
      ],
      "execution_count": 0,
      "outputs": []
    }
  ]
}